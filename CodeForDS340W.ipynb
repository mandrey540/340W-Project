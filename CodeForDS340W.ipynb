{
  "nbformat": 4,
  "nbformat_minor": 0,
  "metadata": {
    "colab": {
      "provenance": []
    },
    "kernelspec": {
      "name": "python3",
      "display_name": "Python 3"
    },
    "language_info": {
      "name": "python"
    }
  },
  "cells": [
    {
      "cell_type": "code",
      "execution_count": null,
      "metadata": {
        "colab": {
          "base_uri": "https://localhost:8080/"
        },
        "id": "rzgU4D7ZFqPs",
        "outputId": "05b12208-1f8e-43f6-f68b-665037f4372e"
      },
      "outputs": [
        {
          "output_type": "stream",
          "name": "stdout",
          "text": [
            "Populating the interactive namespace from numpy and matplotlib\n"
          ]
        },
        {
          "output_type": "stream",
          "name": "stderr",
          "text": [
            "<ipython-input-1-8bf7ca7f79e5>:5: MatplotlibDeprecationWarning: The seaborn styles shipped by Matplotlib are deprecated since 3.6, as they no longer correspond to the styles shipped by seaborn. However, they will remain available as 'seaborn-v0_8-<style>'. Alternatively, directly use the seaborn API instead.\n",
            "  plt.style.use('seaborn')\n"
          ]
        }
      ],
      "source": [
        "%pylab inline\n",
        "import pandas as pd\n",
        "import numpy as np\n",
        "import matplotlib.pyplot as plt\n",
        "plt.style.use('seaborn')\n",
        "%matplotlib inline\n",
        "from datetime import datetime"
      ]
    },
    {
      "cell_type": "code",
      "source": [
        "\n",
        "import os\n",
        "from sklearn.metrics import roc_curve, auc, confusion_matrix\n",
        "from matplotlib import animation\n",
        "import matplotlib.patches as mpatches\n",
        "from sklearn.ensemble import RandomForestClassifier, RandomForestRegressor\n",
        "from sklearn.model_selection import train_test_split\n",
        "from sklearn.model_selection import cross_val_score\n",
        "\n",
        "\n",
        "class DataPreprocessor:\n",
        "    def __init__(self):\n",
        "        pass\n",
        "\n",
        "    def CustomSmoother(self, x, alpha):\n",
        "        s0 = x[0]\n",
        "        smoothed_statistic = [s0]\n",
        "        n = x.shape[0]\n",
        "        for i in range(1, n):\n",
        "            s1 = alpha * x[i] + (1 - alpha) * s0\n",
        "            smoothed_statistic.append(s1)\n",
        "            s0 = s1\n",
        "        smoothed_statistic = np.array(smoothed_statistic)\n",
        "        return smoothed_statistic\n",
        "\n",
        "    def PandaSmoother(self, x):\n",
        "        return pd.DataFrame(x).ewm(span=20).mean()\n",
        "\n",
        "class Evaluator:\n",
        "    def __init__(self, X_test, y_test, y_pred, model):\n",
        "        self.X_test = X_test\n",
        "        self.y_test = y_test\n",
        "        self.y_pred = y_pred\n",
        "        self.model = model\n",
        "    def confusion_matrix(self):\n",
        "        self.cm = confusion_matrix(self.y_test, self.y_pred)\n",
        "\n",
        "    def get_performance_metrics(self):\n",
        "        self.confusion_matrix()\n",
        "\n",
        "        accuracy = (\n",
        "                float((self.cm[0][0] + self.cm[1][1])) /\n",
        "                (self.cm[0][0] + self.cm[0][1] + self.cm[1][0] +\n",
        "                 self.cm[1][1])\n",
        "        )\n",
        "        precision = (\n",
        "                float((self.cm[1][1])) /\n",
        "                (self.cm[1][1] + self.cm[0][1])\n",
        "        )\n",
        "        recall = (\n",
        "                float((self.cm[1][1])) /\n",
        "                (self.cm[1][1] + self.cm[1][0])\n",
        "        )\n",
        "        specificity = (\n",
        "                float((self.cm[0][0])) /\n",
        "                (self.cm[0][0] + self.cm[0][1])\n",
        "        )\n",
        "\n",
        "        return accuracy, recall, precision, specificity\n",
        "\n",
        "    def draw_ROC(self, use_probabilities=True):\n",
        "        y_prob = self.model.predict_proba(self.X_test)\n",
        "        y_pred = self.model.predict(self.X_test)\n",
        "        prob_estimate = y_prob[:, 1]\n",
        "        \n",
        "        if use_probabilities:\n",
        "            fpr, tpr, threshold = roc_curve(self.y_test, prob_estimate)\n",
        "        else:\n",
        "            fpr, tpr, threshold = roc_curve(self.y_test, y_pred)\n",
        "        area = auc(fpr, tpr)\n",
        "        plt.figure()\n",
        "        plt.plot(fpr, tpr, linewidth=2.0, label=\"ROC curve (Area= %0.2f)\" % area)\n",
        "        plt.plot([0, 1], [0, 1], \"r--\")\n",
        "        plt.xlabel(\"False Postive Rate\")\n",
        "        plt.ylabel(\"True Positive Rate\")\n",
        "        plt.legend(loc=\"lower right\")\n",
        "\n",
        "    def oob_vs_n_trees(self, max_trees, X_train, y_train):\n",
        "        # First set up the figure, the axis, and the plot element we want to animate\n",
        "        print(\"\")\n",
        "        print(\"Number of Trees\\t\\tOOB Error Rate\")\n",
        "        fig = plt.figure()\n",
        "        ax = plt.axes(xlim=(0, max_trees), ylim=(0, 1))\n",
        "        line, = ax.plot([], [], lw=2)\n",
        "\n",
        "        # initialization function: plot the background of each frame\n",
        "        def init():\n",
        "            line.set_data([], [])\n",
        "            return line,\n",
        "\n",
        "        number_of_trees = range(2, max_trees + 1)\n",
        "        oob_errors = []\n",
        "\n",
        "        # animation function.  This is called sequentially\n",
        "        def animate(i):\n",
        "            model = RandomForestClassifier(warm_start=True, oob_score=True, n_estimators=i)\n",
        "            model.fit(X_train, y_train)\n",
        "            oob_error = 1 - model.oob_score_\n",
        "            oob_errors.append(oob_error)\n",
        "            print(\"{}\\t\\t\\t{}\".format(i, oob_error))\n",
        "\n",
        "            line.set_data(number_of_trees[:len(oob_errors)], oob_errors)\n",
        "            return line,\n",
        "\n",
        "        # call the animator.  blit=True means only re-draw the parts that have changed.\n",
        "        anim = animation.FuncAnimation(fig, animate, init_func=init, frames=number_of_trees, interval=100, blit=True,\n",
        "                                       repeat=False)\n",
        "        plt.xlabel(\"Number of trees\")\n",
        "        plt.ylabel(\"OOB error\")\n",
        "        plt.show()\n",
        "\n",
        "    def plot_classification_results(self):\n",
        "        self.confusion_matrix()\n",
        "        x = [i + 3.0 for i in range(4)]\n",
        "        xlabel = [\"TP\", \"FN\", \"FP\", \"TN\"]\n",
        "        plt.figure()\n",
        "        plt.grid(True)\n",
        "        plt.bar(x, self.cm.reshape(-1), color=np.random.random((4, 3)))\n",
        "        plt.xticks([i + 3.0 for i in range(4)], xlabel)\n",
        "        plt.show(block=False)\n",
        "\n",
        "# exponential weighted moving average\n",
        "def ema(x, p):\n",
        "    x = x.squeeze()\n",
        "    prev_ema = x[:p].mean()\n",
        "    ema = [prev_ema]\n",
        "    m = len(x)\n",
        "    multiplier = 2 / float(p + 1)\n",
        "    for i in range(p, m):\n",
        "        cur_ema = (x[i] - prev_ema) * multiplier + prev_ema\n",
        "        prev_ema = cur_ema\n",
        "        ema.append(cur_ema)\n",
        "    return np.array(ema)\n",
        "\n",
        "\n",
        "# Relative Strength Index\n",
        "def getRSI(x):\n",
        "    x = x.squeeze()\n",
        "    n = len(x)\n",
        "    x0 = x[:n - 1]\n",
        "    x1 = x[1:]\n",
        "    change = x1 - x0\n",
        "    avgGain = []\n",
        "    avgLoss = []\n",
        "    loss = 0\n",
        "    gain = 0\n",
        "    for i in range(14):\n",
        "        if change[i] > 0:\n",
        "            gain += change[i]\n",
        "        elif change[i] < 0:\n",
        "            loss += abs(change[i])\n",
        "    averageGain = gain / 14.0\n",
        "    averageLoss = loss / 14.0\n",
        "    avgGain.append(averageGain)\n",
        "    avgLoss.append(averageLoss)\n",
        "    for i in range(14, n - 1):\n",
        "        if change[i] >= 0:\n",
        "            avgGain.append((avgGain[-1] * 13 + change[i]) / 14.0)\n",
        "            avgLoss.append((avgLoss[-1] * 13) / 14.0)\n",
        "        else:\n",
        "            avgGain.append((avgGain[-1] * 13) / 14.0)\n",
        "            avgLoss.append((avgLoss[-1] * 13 + abs(change[i])) / 14.0)\n",
        "    avgGain = np.array(avgGain)\n",
        "    avgLoss = np.array(avgLoss)\n",
        "    RS = avgGain / avgLoss\n",
        "    RSI = 100 - (100 / (1 + RS))\n",
        "    return np.c_[RSI, x1[13:]]\n",
        "\n",
        "def getStochasticOscillator(x):\n",
        "    high = x[:, 1].squeeze()\n",
        "    low = x[:, 2].squeeze()\n",
        "    close = x[:, 3].squeeze()\n",
        "    n = len(high)\n",
        "    highestHigh = []\n",
        "    lowestLow = []\n",
        "    for i in range(n - 13):\n",
        "        highestHigh.append(high[i:i + 14].max())\n",
        "        lowestLow.append(low[i:i + 14].min())\n",
        "    highestHigh = np.array(highestHigh)\n",
        "    lowestLow = np.array(lowestLow)\n",
        "    k = 100 * ((close[13:] - lowestLow) / (highestHigh - lowestLow))\n",
        "\n",
        "    return np.c_[k, close[13:]]\n",
        "\n",
        "\n",
        "def getWilliams(x):\n",
        "    high = x[:, 1].squeeze()\n",
        "    low = x[:, 2].squeeze()\n",
        "    close = x[:, 3].squeeze()\n",
        "    n = len(high)\n",
        "    highestHigh = []\n",
        "    lowestLow = []\n",
        "    for i in range(n - 13):\n",
        "        highestHigh.append(high[i:i + 14].max())\n",
        "        lowestLow.append(low[i:i + 14].min())\n",
        "    highestHigh = np.array(highestHigh)\n",
        "    lowestLow = np.array(lowestLow)\n",
        "    w = -100 * ((highestHigh - close[13:]) / (highestHigh - lowestLow))\n",
        "    return np.c_[w, close[13:]]\n",
        "\n",
        "def getMACD(close):\n",
        "    ma1 = ema(close.squeeze(), 12)\n",
        "    ma2 = ema(close.squeeze(), 26)\n",
        "    macd = ma1[14:] - ma2\n",
        "    return np.c_[macd, close[len(close) - len(macd):]]\n",
        "\n",
        "\n",
        "def getPriceRateOfChange(close, n_days):\n",
        "    close = close.squeeze()\n",
        "    n = len(close)\n",
        "    x0 = close[:n - n_days]\n",
        "    x1 = close[n_days:]\n",
        "    PriceRateOfChange = (x1 - x0) / x0\n",
        "    return np.c_[PriceRateOfChange, x1]\n",
        "\n",
        "def getOnBalanceVolume(X):\n",
        "    close = X[:, 3].squeeze()\n",
        "    volume = X[:, 4].squeeze()[1:]\n",
        "    n = len(close)\n",
        "    x0 = close[:n - 1]\n",
        "    x1 = close[1:]\n",
        "    change = x1 - x0\n",
        "    OBV = []\n",
        "    prev_OBV = 0\n",
        "\n",
        "    for i in range(n - 1):\n",
        "        if change[i] > 0:\n",
        "            current_OBV = prev_OBV + volume[i]\n",
        "        elif change[i] < 0:\n",
        "            current_OBV = prev_OBV - volume[i]\n",
        "        else:\n",
        "            current_OBV = prev_OBV\n",
        "        OBV.append(current_OBV)\n",
        "        prev_OBV = current_OBV\n",
        "    OBV = np.array(OBV)\n",
        "    return np.c_[OBV, x1]\n",
        "\n",
        "def getData(CSVFile, days=None):\n",
        "    smoother = DataPreprocessor()\n",
        "    data = pd.read_csv(CSVFile)\n",
        "    data = data[::-1]  # reverse\n",
        "    if days is not None:\n",
        "        data = data[-days:]\n",
        "    ohclv_data = np.c_[data['Open'],\n",
        "                       data['High'],\n",
        "                       data['Low'],\n",
        "                       data['Close'],\n",
        "                       data['Volume']]\n",
        "    smoothened_ohclv_data = smoother.PandaSmoother(ohclv_data)\n",
        "    return smoothened_ohclv_data, np.array(data[\"Close\"]), list(data[\"Date\"])\n",
        "\n",
        "\n",
        "def getTechnicalIndicators(X, d):\n",
        "    RSI = getRSI(X[:, 3])\n",
        "    StochasticOscillator = getStochasticOscillator(X)\n",
        "    Williams = getWilliams(X)\n",
        "\n",
        "    MACD = getMACD(X[:, 3])\n",
        "    PROC = getPriceRateOfChange(X[:, 3], d)\n",
        "    OBV = getOnBalanceVolume(X)\n",
        "\n",
        "    min_len = min(len(RSI),\n",
        "                  len(StochasticOscillator),\n",
        "                  len(Williams),\n",
        "                  len(MACD),\n",
        "                  len(PROC),\n",
        "                  len(OBV))\n",
        "\n",
        "    RSI = RSI[len(RSI) - min_len:]\n",
        "    StochasticOscillator = StochasticOscillator[len(StochasticOscillator) - min_len:]\n",
        "    Williams = Williams[len(Williams) - min_len:]\n",
        "    MACD = MACD[len(MACD) - min_len:]\n",
        "    PROC = PROC[len(PROC) - min_len:]\n",
        "    OBV = OBV[len(OBV) - min_len:]\n",
        "\n",
        "    feature_matrix = np.c_[RSI[:, 0],\n",
        "                           StochasticOscillator[:, 0],\n",
        "                           Williams[:, 0],\n",
        "                           MACD[:, 0],\n",
        "                           PROC[:, 0],\n",
        "                           OBV[:, 0]]\n",
        "\n",
        "    return feature_matrix\n",
        "\n",
        "def prepareData(X, close, date, days):\n",
        "\n",
        "    feature_matrix = getTechnicalIndicators(X, days)\n",
        "\n",
        "    print(\"Size of feature matrix: \", feature_matrix.shape)\n",
        "\n",
        "    number_of_samples = feature_matrix.shape[0]\n",
        "    print(\"Number of samples: %d\" % number_of_samples)\n",
        "    date = date[len(date) - number_of_samples:]\n",
        "    close = close[len(close) - number_of_samples:]\n",
        "\n",
        "    # y0 = feature_matrix[:,-1][ :number_of_samples-d]\n",
        "    # y1 = feature_matrix[:,-1][d:]\n",
        "\n",
        "    y0 = close[:number_of_samples - days]\n",
        "    y1 = close[days:]\n",
        "\n",
        "    feature_matrix_1 = feature_matrix[:number_of_samples - days]\n",
        "    feature_matrix_2 = feature_matrix[number_of_samples - 1000:]\n",
        "    date = date[number_of_samples - 1000:]\n",
        "\n",
        "    # closeplot = feature_matrix[:,-1][number_of_samples - 1000:]\n",
        "    closeplot = close[number_of_samples - 1000:]\n",
        "    y = np.sign(y1 - y0)\n",
        "\n",
        "    print(\"y: \", y)\n",
        "\n",
        "    feature_matrix_1 = feature_matrix_1[:, range(6)]\n",
        "\n",
        "    return feature_matrix_1, y, feature_matrix_2[:, range(6)], closeplot, date\n",
        "\n",
        "def plotTradingStrategy(model, xplot, closeplot, Trading_Day, date):\n",
        "    colorMap = {-1.0: \"r\", 1.0: \"b\", 0.0: \"y\"}\n",
        "    tradeMap = {-1.0: \"Sell\", 1.0: \"Buy\", 0.0: \"Buy\"}\n",
        "    plt.figure()\n",
        "    plt.plot(closeplot, c=\"g\")\n",
        "    x = [xplot[i] for i in range(0, len(xplot), Trading_Day)]\n",
        "    y = [closeplot[i] for i in range(0, len(closeplot), Trading_Day)]\n",
        "    y_pred = model.predict(x)\n",
        "\n",
        "    c = [colorMap[y_pred[i]] for i in range(len(y_pred))]\n",
        "\n",
        "    df = pd.DataFrame(np.c_[[i + 1 for i in range(0, len(xplot), Trading_Day)], x, y, [tradeMap[y_pred[i]] for i in\n",
        "                                                                                       range(len(y_pred))]],\n",
        "                      columns=[\"Day\", \"RSI\", \"Stochastic Oscillator\", \"Williams\", \"MACD\", \"Price Rate Of Change\",\n",
        "                               \"On Balance Volume\", \"Close\", \"Buy/Sell\"])\n",
        "    df.to_csv(\"AAPLBuySellTradePoints.csv\", index=False)\n",
        "\n",
        "    plt.scatter([i for i in range(0, len(xplot), Trading_Day)], y, c=c)\n",
        "    # plt.xticks([i for i in xrange(0,len(xplot),Trading_Day)],[date[i] for i in xrange(0,len(xplot),Trading_Day)])\n",
        "    red_patch = mpatches.Patch(color='red', label='Sell')\n",
        "    blue_patch = mpatches.Patch(color=\"blue\", label=\"Buy\")\n",
        "    plt.legend(handles=[red_patch, blue_patch])\n",
        "    plt.xlabel(\"Time\")\n",
        "    plt.ylabel(\"Closing price\")\n",
        "    plt.title(\"Trading strategy for {} days trading window\".format(Trading_Day))\n",
        "    plt.savefig(\"TradingStrategy.png\")\n",
        "    plt.show(block=False)\n"
      ],
      "metadata": {
        "id": "nHY6UWHeFuNY"
      },
      "execution_count": null,
      "outputs": []
    },
    {
      "cell_type": "markdown",
      "source": [
        "# Load Data"
      ],
      "metadata": {
        "id": "G3oxKPXoGnPd"
      }
    },
    {
      "cell_type": "code",
      "source": [
        "from datetime import datetime\n",
        "data = pd.read_csv('AMZN.csv', sep=\",\", converters={0: lambda x: datetime.strptime(x, \"%Y-%m-%d\")})\n",
        "data = data.set_index('Date')\n",
        "data.head()"
      ],
      "metadata": {
        "colab": {
          "base_uri": "https://localhost:8080/",
          "height": 238
        },
        "id": "4TK5rgbuG15c",
        "outputId": "071b94f2-7260-4f2e-94a5-ce0d415a013c"
      },
      "execution_count": null,
      "outputs": [
        {
          "output_type": "execute_result",
          "data": {
            "text/plain": [
              "                  Open        High         Low       Close   Volume  \\\n",
              "Date                                                                  \n",
              "2017-02-02  836.590027  842.489990  828.260010  839.950012  6541700   \n",
              "2017-02-01  829.210022  833.780029  824.940002  832.349976  3797000   \n",
              "2017-01-31  823.750000  826.989990  819.559998  823.479980  3112600   \n",
              "2017-01-30  833.000000  833.500000  816.380005  830.380005  3677100   \n",
              "2017-01-27  839.000000  839.700012  829.440002  835.770020  2998700   \n",
              "\n",
              "             Adj Close  \n",
              "Date                    \n",
              "2017-02-02  839.950012  \n",
              "2017-02-01  832.349976  \n",
              "2017-01-31  823.479980  \n",
              "2017-01-30  830.380005  \n",
              "2017-01-27  835.770020  "
            ],
            "text/html": [
              "\n",
              "  <div id=\"df-e563e1d8-d226-44b2-9ffb-cea8914d983c\">\n",
              "    <div class=\"colab-df-container\">\n",
              "      <div>\n",
              "<style scoped>\n",
              "    .dataframe tbody tr th:only-of-type {\n",
              "        vertical-align: middle;\n",
              "    }\n",
              "\n",
              "    .dataframe tbody tr th {\n",
              "        vertical-align: top;\n",
              "    }\n",
              "\n",
              "    .dataframe thead th {\n",
              "        text-align: right;\n",
              "    }\n",
              "</style>\n",
              "<table border=\"1\" class=\"dataframe\">\n",
              "  <thead>\n",
              "    <tr style=\"text-align: right;\">\n",
              "      <th></th>\n",
              "      <th>Open</th>\n",
              "      <th>High</th>\n",
              "      <th>Low</th>\n",
              "      <th>Close</th>\n",
              "      <th>Volume</th>\n",
              "      <th>Adj Close</th>\n",
              "    </tr>\n",
              "    <tr>\n",
              "      <th>Date</th>\n",
              "      <th></th>\n",
              "      <th></th>\n",
              "      <th></th>\n",
              "      <th></th>\n",
              "      <th></th>\n",
              "      <th></th>\n",
              "    </tr>\n",
              "  </thead>\n",
              "  <tbody>\n",
              "    <tr>\n",
              "      <th>2017-02-02</th>\n",
              "      <td>836.590027</td>\n",
              "      <td>842.489990</td>\n",
              "      <td>828.260010</td>\n",
              "      <td>839.950012</td>\n",
              "      <td>6541700</td>\n",
              "      <td>839.950012</td>\n",
              "    </tr>\n",
              "    <tr>\n",
              "      <th>2017-02-01</th>\n",
              "      <td>829.210022</td>\n",
              "      <td>833.780029</td>\n",
              "      <td>824.940002</td>\n",
              "      <td>832.349976</td>\n",
              "      <td>3797000</td>\n",
              "      <td>832.349976</td>\n",
              "    </tr>\n",
              "    <tr>\n",
              "      <th>2017-01-31</th>\n",
              "      <td>823.750000</td>\n",
              "      <td>826.989990</td>\n",
              "      <td>819.559998</td>\n",
              "      <td>823.479980</td>\n",
              "      <td>3112600</td>\n",
              "      <td>823.479980</td>\n",
              "    </tr>\n",
              "    <tr>\n",
              "      <th>2017-01-30</th>\n",
              "      <td>833.000000</td>\n",
              "      <td>833.500000</td>\n",
              "      <td>816.380005</td>\n",
              "      <td>830.380005</td>\n",
              "      <td>3677100</td>\n",
              "      <td>830.380005</td>\n",
              "    </tr>\n",
              "    <tr>\n",
              "      <th>2017-01-27</th>\n",
              "      <td>839.000000</td>\n",
              "      <td>839.700012</td>\n",
              "      <td>829.440002</td>\n",
              "      <td>835.770020</td>\n",
              "      <td>2998700</td>\n",
              "      <td>835.770020</td>\n",
              "    </tr>\n",
              "  </tbody>\n",
              "</table>\n",
              "</div>\n",
              "      <button class=\"colab-df-convert\" onclick=\"convertToInteractive('df-e563e1d8-d226-44b2-9ffb-cea8914d983c')\"\n",
              "              title=\"Convert this dataframe to an interactive table.\"\n",
              "              style=\"display:none;\">\n",
              "        \n",
              "  <svg xmlns=\"http://www.w3.org/2000/svg\" height=\"24px\"viewBox=\"0 0 24 24\"\n",
              "       width=\"24px\">\n",
              "    <path d=\"M0 0h24v24H0V0z\" fill=\"none\"/>\n",
              "    <path d=\"M18.56 5.44l.94 2.06.94-2.06 2.06-.94-2.06-.94-.94-2.06-.94 2.06-2.06.94zm-11 1L8.5 8.5l.94-2.06 2.06-.94-2.06-.94L8.5 2.5l-.94 2.06-2.06.94zm10 10l.94 2.06.94-2.06 2.06-.94-2.06-.94-.94-2.06-.94 2.06-2.06.94z\"/><path d=\"M17.41 7.96l-1.37-1.37c-.4-.4-.92-.59-1.43-.59-.52 0-1.04.2-1.43.59L10.3 9.45l-7.72 7.72c-.78.78-.78 2.05 0 2.83L4 21.41c.39.39.9.59 1.41.59.51 0 1.02-.2 1.41-.59l7.78-7.78 2.81-2.81c.8-.78.8-2.07 0-2.86zM5.41 20L4 18.59l7.72-7.72 1.47 1.35L5.41 20z\"/>\n",
              "  </svg>\n",
              "      </button>\n",
              "      \n",
              "  <style>\n",
              "    .colab-df-container {\n",
              "      display:flex;\n",
              "      flex-wrap:wrap;\n",
              "      gap: 12px;\n",
              "    }\n",
              "\n",
              "    .colab-df-convert {\n",
              "      background-color: #E8F0FE;\n",
              "      border: none;\n",
              "      border-radius: 50%;\n",
              "      cursor: pointer;\n",
              "      display: none;\n",
              "      fill: #1967D2;\n",
              "      height: 32px;\n",
              "      padding: 0 0 0 0;\n",
              "      width: 32px;\n",
              "    }\n",
              "\n",
              "    .colab-df-convert:hover {\n",
              "      background-color: #E2EBFA;\n",
              "      box-shadow: 0px 1px 2px rgba(60, 64, 67, 0.3), 0px 1px 3px 1px rgba(60, 64, 67, 0.15);\n",
              "      fill: #174EA6;\n",
              "    }\n",
              "\n",
              "    [theme=dark] .colab-df-convert {\n",
              "      background-color: #3B4455;\n",
              "      fill: #D2E3FC;\n",
              "    }\n",
              "\n",
              "    [theme=dark] .colab-df-convert:hover {\n",
              "      background-color: #434B5C;\n",
              "      box-shadow: 0px 1px 3px 1px rgba(0, 0, 0, 0.15);\n",
              "      filter: drop-shadow(0px 1px 2px rgba(0, 0, 0, 0.3));\n",
              "      fill: #FFFFFF;\n",
              "    }\n",
              "  </style>\n",
              "\n",
              "      <script>\n",
              "        const buttonEl =\n",
              "          document.querySelector('#df-e563e1d8-d226-44b2-9ffb-cea8914d983c button.colab-df-convert');\n",
              "        buttonEl.style.display =\n",
              "          google.colab.kernel.accessAllowed ? 'block' : 'none';\n",
              "\n",
              "        async function convertToInteractive(key) {\n",
              "          const element = document.querySelector('#df-e563e1d8-d226-44b2-9ffb-cea8914d983c');\n",
              "          const dataTable =\n",
              "            await google.colab.kernel.invokeFunction('convertToInteractive',\n",
              "                                                     [key], {});\n",
              "          if (!dataTable) return;\n",
              "\n",
              "          const docLinkHtml = 'Like what you see? Visit the ' +\n",
              "            '<a target=\"_blank\" href=https://colab.research.google.com/notebooks/data_table.ipynb>data table notebook</a>'\n",
              "            + ' to learn more about interactive tables.';\n",
              "          element.innerHTML = '';\n",
              "          dataTable['output_type'] = 'display_data';\n",
              "          await google.colab.output.renderOutput(dataTable, element);\n",
              "          const docLink = document.createElement('div');\n",
              "          docLink.innerHTML = docLinkHtml;\n",
              "          element.appendChild(docLink);\n",
              "        }\n",
              "      </script>\n",
              "    </div>\n",
              "  </div>\n",
              "  "
            ]
          },
          "metadata": {},
          "execution_count": 3
        }
      ]
    },
    {
      "cell_type": "code",
      "source": [
        "plt.plot(data[\"Close\"])\n"
      ],
      "metadata": {
        "colab": {
          "base_uri": "https://localhost:8080/",
          "height": 501
        },
        "id": "H6JLnsFKG4xx",
        "outputId": "88f0648b-4acf-4e4a-a273-1caedde1b9c7"
      },
      "execution_count": null,
      "outputs": [
        {
          "output_type": "execute_result",
          "data": {
            "text/plain": [
              "[<matplotlib.lines.Line2D at 0x7f0a85d87a60>]"
            ]
          },
          "metadata": {},
          "execution_count": 7
        },
        {
          "output_type": "display_data",
          "data": {
            "text/plain": [
              "<Figure size 800x550 with 1 Axes>"
            ],
            "image/png": "[encoded data removed]"
          },
          "metadata": {}
        }
      ]
    },
    {
      "cell_type": "markdown",
      "source": [
        "# Prepare Data"
      ],
      "metadata": {
        "id": "jQUej8JjG7XT"
      }
    },
    {
      "cell_type": "code",
      "source": [
        "stock_symbol = \"AMZN\"\n",
        "days = 90\n",
        "\n",
        "filename = stock_symbol + \".csv\"\n",
        "csv_file = os.path.join(filename)\n",
        "ohclv_data, close, date = getData(csv_file, days=2000)\n",
        "\n",
        "plt.plot(ohclv_data[3])\n",
        "\n",
        "ohclv_data = np.array(ohclv_data)\n",
        "X, y, xplot, closeplot, dateplot = prepareData(ohclv_data, close, date, days)\n",
        "y[y == 0] = 1\n",
        "print(\"len X:\", len(X))\n",
        "print(\"len y:\", len(y))"
      ],
      "metadata": {
        "colab": {
          "base_uri": "https://localhost:8080/",
          "height": 571
        },
        "id": "EPQw03tIG5Re",
        "outputId": "65f299f4-5fb3-4f55-843f-a3a43d254972"
      },
      "execution_count": null,
      "outputs": [
        {
          "output_type": "stream",
          "name": "stdout",
          "text": [
            "Size of feature matrix:  (1910, 6)\n",
            "Number of samples: 1910\n",
            "y:  [1. 1. 1. ... 1. 1. 1.]\n",
            "len X: 1820\n",
            "len y: 1820\n"
          ]
        },
        {
          "output_type": "display_data",
          "data": {
            "text/plain": [
              "<Figure size 800x550 with 1 Axes>"
            ],
            "image/png": "[encoded data removed]"
          },
          "metadata": {}
        }
      ]
    },
    {
      "cell_type": "code",
      "source": [
        "print(len(y))\n",
        "hist(y)"
      ],
      "metadata": {
        "colab": {
          "base_uri": "https://localhost:8080/",
          "height": 571
        },
        "id": "Y7cnbPfUG-AL",
        "outputId": "548fff01-bb94-4c2d-c1df-34dbcf41d97f"
      },
      "execution_count": null,
      "outputs": [
        {
          "output_type": "stream",
          "name": "stdout",
          "text": [
            "1820\n"
          ]
        },
        {
          "output_type": "execute_result",
          "data": {
            "text/plain": [
              "(array([ 453.,    0.,    0.,    0.,    0.,    0.,    0.,    0.,    0.,\n",
              "        1367.]),\n",
              " array([-1. , -0.8, -0.6, -0.4, -0.2,  0. ,  0.2,  0.4,  0.6,  0.8,  1. ]),\n",
              " <BarContainer object of 10 artists>)"
            ]
          },
          "metadata": {},
          "execution_count": 9
        },
        {
          "output_type": "display_data",
          "data": {
            "text/plain": [
              "<Figure size 800x550 with 1 Axes>"
            ],
            "image/png": "[encoded data removed]"
          },
          "metadata": {}
        }
      ]
    },
    {
      "cell_type": "markdown",
      "source": [
        "# Split Data"
      ],
      "metadata": {
        "id": "nHyS6iAEHBof"
      }
    },
    {
      "cell_type": "code",
      "source": [
        "def split_data(X, y, test_factor=0.2):\n",
        "    # Use the last 20% of the time series as test data.\n",
        "    # The first elements contains the older data.\n",
        "    test_len = int(len(X) * test_factor)\n",
        "    X_test = X[-test_len:]\n",
        "    y_test = y[-test_len:]\n",
        "    X_train = X[:-test_len]\n",
        "    y_train = y[:-test_len]\n",
        "    return X_train, X_test, y_train, y_test"
      ],
      "metadata": {
        "id": "Ryn4FVJEG-Y8"
      },
      "execution_count": null,
      "outputs": []
    },
    {
      "cell_type": "code",
      "source": [
        "X_train1, X_test1, y_train1, y_test1 = train_test_split(X, y)\n",
        "\n",
        "print(\"n_train1:\", len(X_train1))\n",
        "print(\"n_test1:\", len(X_test1))\n"
      ],
      "metadata": {
        "colab": {
          "base_uri": "https://localhost:8080/"
        },
        "id": "9i-XVo6HHAF2",
        "outputId": "47531366-7928-401e-8bef-e74364332a5d"
      },
      "execution_count": null,
      "outputs": [
        {
          "output_type": "stream",
          "name": "stdout",
          "text": [
            "n_train1: 1365\n",
            "n_test1: 455\n"
          ]
        }
      ]
    },
    {
      "cell_type": "markdown",
      "source": [
        "# Fit Models"
      ],
      "metadata": {
        "id": "q-5afTxiHD6r"
      }
    },
    {
      "cell_type": "markdown",
      "source": [
        "## Random Forest Model"
      ],
      "metadata": {
        "id": "-ZHtulyMqmP4"
      }
    },
    {
      "cell_type": "code",
      "source": [
        "model1 = RandomForestClassifier(n_estimators=100, criterion=\"gini\", random_state=0)\n",
        "model1.fit(X_train1, y_train1)\n",
        "y_pred1 = model1.predict(X_test1)\n",
        "\n",
        "print(\"model 1 score: %.2f\"  % model1.score(X_test1, y_test1))"
      ],
      "metadata": {
        "colab": {
          "base_uri": "https://localhost:8080/"
        },
        "id": "6ChAxDObHFWp",
        "outputId": "1790645b-d371-493e-c18f-d8ad1317623b"
      },
      "execution_count": null,
      "outputs": [
        {
          "output_type": "stream",
          "name": "stdout",
          "text": [
            "model 1 score: 0.93\n"
          ]
        }
      ]
    },
    {
      "cell_type": "code",
      "source": [
        "Eval1 = Evaluator(X_test1, y_test1, y_pred1, model1)\n",
        "accuracy, recall, precision, specificity = Eval1.get_performance_metrics()\n",
        "\n",
        "print(\"## Confusion matrix metrics ##\")\n",
        "print(\"Accuracy: %.2f\" % accuracy)\n",
        "print(\"Recall: %.2f\" % recall)\n",
        "print(\"Precision: %.2f\" % precision)\n",
        "print(\"Specificity: %.2f\" % specificity)"
      ],
      "metadata": {
        "id": "FGz0SJe_HH50",
        "colab": {
          "base_uri": "https://localhost:8080/"
        },
        "outputId": "9e071a1f-f465-4abd-96f3-6cef46cbfc2a"
      },
      "execution_count": null,
      "outputs": [
        {
          "output_type": "stream",
          "name": "stdout",
          "text": [
            "## Confusion matrix metrics ##\n",
            "Accuracy: 0.93\n",
            "Recall: 0.98\n",
            "Precision: 0.94\n",
            "Specificity: 0.80\n"
          ]
        }
      ]
    },
    {
      "cell_type": "markdown",
      "source": [
        "## Logistic Regression Model"
      ],
      "metadata": {
        "id": "oUFICu5yrHxy"
      }
    },
    {
      "cell_type": "code",
      "source": [
        "def split_data(X, y, test_factor=0.10):\n",
        "    # Use the last 20% of the time series as test data.\n",
        "    # The first elements contains the older data.\n",
        "    test_len = int(len(X) * test_factor)\n",
        "    X_test2 = X[-test_len:]\n",
        "    y_test2 = y[-test_len:]\n",
        "    X_train2 = X[:-test_len]\n",
        "    y_train2 = y[:-test_len]\n",
        "    return X_train2, X_test2, y_train2, y_test2\n",
        "\n",
        "X_train2, X_test2, y_train2, y_test2 = train_test_split(X, y)\n",
        "\n",
        "print(\"n_train1:\", len(X_train2))\n",
        "print(\"n_test1:\", len(X_test2))"
      ],
      "metadata": {
        "colab": {
          "base_uri": "https://localhost:8080/"
        },
        "id": "EbZYKRslx4T4",
        "outputId": "0a1d2161-0596-4263-fc2e-f604cdc53cff"
      },
      "execution_count": null,
      "outputs": [
        {
          "output_type": "stream",
          "name": "stdout",
          "text": [
            "n_train1: 1365\n",
            "n_test1: 455\n"
          ]
        }
      ]
    },
    {
      "cell_type": "code",
      "source": [
        "from sklearn.linear_model import LogisticRegression\n",
        "model_lr = LogisticRegression(random_state=0)\n",
        "model_lr.fit(X_train2, y_train2)\n",
        "y_pred_lr = model_lr.predict(X_test2)\n",
        "print(\"Logistic regression model score: %.2f\" % model_lr.score(X_test2, y_test2))"
      ],
      "metadata": {
        "id": "RciCYbIUqpAV",
        "colab": {
          "base_uri": "https://localhost:8080/"
        },
        "outputId": "3dcc1393-5514-4f1b-ba6f-efc037487c79"
      },
      "execution_count": null,
      "outputs": [
        {
          "output_type": "stream",
          "name": "stdout",
          "text": [
            "Logistic regression model score: 0.77\n"
          ]
        }
      ]
    },
    {
      "cell_type": "code",
      "source": [
        "Eval2 = Evaluator(X_test2, y_test2, y_pred_lr, model_lr)\n",
        "accuracy, recall, precision, specificity = Eval2.get_performance_metrics()\n",
        "\n",
        "print(\"## Confusion matrix metrics ##\")\n",
        "print(\"Accuracy: %.2f\" % accuracy)\n",
        "print(\"Recall: %.2f\" % recall)\n",
        "print(\"Precision: %.2f\" % precision)\n",
        "print(\"Specificity: %.2f\" % specificity)"
      ],
      "metadata": {
        "id": "6xG8LRUtHJfA",
        "colab": {
          "base_uri": "https://localhost:8080/"
        },
        "outputId": "e81ba7ec-224f-4062-e332-c01695c6d70e"
      },
      "execution_count": null,
      "outputs": [
        {
          "output_type": "stream",
          "name": "stdout",
          "text": [
            "## Confusion matrix metrics ##\n",
            "Accuracy: 0.77\n",
            "Recall: 1.00\n",
            "Precision: 0.77\n",
            "Specificity: 0.00\n"
          ]
        }
      ]
    },
    {
      "cell_type": "markdown",
      "source": [
        "## Basic Neural Network Model"
      ],
      "metadata": {
        "id": "8TWCARv9rqMC"
      }
    },
    {
      "cell_type": "code",
      "source": [
        "def split_data(X, y, test_factor=0.15):\n",
        "    # Use the last 20% of the time series as test data.\n",
        "    # The first elements contains the older data.\n",
        "    test_len = int(len(X) * test_factor)\n",
        "    X_test3 = X[-test_len:]\n",
        "    y_test3 = y[-test_len:]\n",
        "    X_train3 = X[:-test_len]\n",
        "    y_train3 = y[:-test_len]\n",
        "    return X_train3, X_test3, y_train3, y_test3\n",
        "\n",
        "X_train3, X_test3, y_train3, y_test3 = train_test_split(X, y)\n",
        "\n",
        "print(\"n_train1:\", len(X_train3))\n",
        "print(\"n_test1:\", len(X_test3))"
      ],
      "metadata": {
        "colab": {
          "base_uri": "https://localhost:8080/"
        },
        "id": "N8hbpQa0yP8m",
        "outputId": "c952f7c2-f338-446e-8928-6e63b0b40d4d"
      },
      "execution_count": null,
      "outputs": [
        {
          "output_type": "stream",
          "name": "stdout",
          "text": [
            "n_train1: 1365\n",
            "n_test1: 455\n"
          ]
        }
      ]
    },
    {
      "cell_type": "code",
      "source": [
        "from sklearn.neural_network import MLPClassifier\n",
        "\n",
        "# Create neural network model\n",
        "model_nn = MLPClassifier(hidden_layer_sizes=(100,), max_iter=1000, random_state=0)\n",
        "\n",
        "# Train the model on the training data\n",
        "model_nn.fit(X_train3, y_train3)\n",
        "\n",
        "# Make predictions on the test data\n",
        "y_pred_nn = model_nn.predict(X_test3)\n",
        "\n",
        "# Evaluate the model on the test data\n",
        "print(\"Neural network model score: %.2f\" % model_nn.score(X_test3, y_test3))\n",
        "print(\"## Confusion matrix metrics ##\")\n",
        "print(\"Accuracy: %.2f\" % accuracy)\n",
        "print(\"Recall: %.2f\" % recall)\n",
        "print(\"Precision: %.2f\" % precision)\n",
        "print(\"Specificity: %.2f\" % specificity)\n"
      ],
      "metadata": {
        "colab": {
          "base_uri": "https://localhost:8080/"
        },
        "id": "cVKPRIjvr2K0",
        "outputId": "25f9e06a-63b2-473c-a392-de14c42afe53"
      },
      "execution_count": null,
      "outputs": [
        {
          "output_type": "stream",
          "name": "stdout",
          "text": [
            "Neural network model score: 0.74\n",
            "## Confusion matrix metrics ##\n",
            "Accuracy: 0.77\n",
            "Recall: 1.00\n",
            "Precision: 0.77\n",
            "Specificity: 0.00\n"
          ]
        }
      ]
    },
    {
      "cell_type": "markdown",
      "source": [
        "## ANN Model\n",
        "\n"
      ],
      "metadata": {
        "id": "UwOG0SViwM4-"
      }
    },
    {
      "cell_type": "code",
      "source": [
        "def split_data(X, y, test_factor=0.15):\n",
        "    # Use the last 20% of the time series as test data.\n",
        "    # The first elements contains the older data.\n",
        "    test_len = int(len(X) * test_factor)\n",
        "    X_test4 = X[-test_len:]\n",
        "    y_test4 = y[-test_len:]\n",
        "    X_train4 = X[:-test_len]\n",
        "    y_train4 = y[:-test_len]\n",
        "    return X_train4, X_test4, y_train4, y_test4\n",
        "\n",
        "X_train4, X_test4, y_train4, y_test4 = train_test_split(X, y)\n",
        "\n",
        "print(\"n_train1:\", len(X_train4))\n",
        "print(\"n_test1:\", len(X_test4))"
      ],
      "metadata": {
        "colab": {
          "base_uri": "https://localhost:8080/"
        },
        "id": "khTskQ17yrUX",
        "outputId": "542a5bf2-a62c-4f96-e31e-1636f43f5d7f"
      },
      "execution_count": null,
      "outputs": [
        {
          "output_type": "stream",
          "name": "stdout",
          "text": [
            "n_train1: 1365\n",
            "n_test1: 455\n"
          ]
        }
      ]
    },
    {
      "cell_type": "code",
      "source": [
        "import tensorflow as tf\n",
        "from tensorflow import keras\n",
        "from tensorflow.keras import layers\n",
        "\n",
        "# Define the input shape\n",
        "input_shape = X_train4.shape[1]\n",
        "\n",
        "# Define the model architecture\n",
        "model = keras.Sequential([\n",
        "    layers.Dense(64, activation='relu', input_shape=[input_shape]),\n",
        "    layers.Dense(32, activation='relu'),\n",
        "    layers.Dense(1)\n",
        "])\n",
        "\n",
        "# Compile the model\n",
        "model.compile(\n",
        "    optimizer=tf.optimizers.Adam(learning_rate=0.001),\n",
        "    loss=tf.losses.MeanSquaredError(),\n",
        "    metrics=['mae']\n",
        ")\n",
        "\n",
        "# Train the model\n",
        "history = model.fit(\n",
        "    X_train4, y_train4,\n",
        "    epochs=100,\n",
        "    batch_size=32,\n",
        "    validation_data=(X_test4, y_test4),\n",
        "    verbose=1\n",
        ")\n",
        "\n",
        "# Evaluate the model on the test set\n",
        "test_loss, test_mae = model.evaluate(X_test4, y_test4, verbose=0)\n",
        "print('Test MAE: %.3f' % test_mae)\n",
        "print(\"## Confusion matrix metrics ##\")\n",
        "print(\"Accuracy: %.2f\" % accuracy)\n",
        "print(\"Recall: %.2f\" % recall)\n",
        "print(\"Precision: %.2f\" % precision)\n",
        "print(\"Specificity: %.2f\" % specificity)\n",
        "\n"
      ],
      "metadata": {
        "colab": {
          "base_uri": "https://localhost:8080/"
        },
        "id": "RnuSLWzRwPyb",
        "outputId": "dabeeb96-bd21-4551-fa9e-49fab6b447eb"
      },
      "execution_count": null,
      "outputs": [
        {
          "output_type": "stream",
          "name": "stdout",
          "text": [
            "Epoch 1/100\n",
            "43/43 [==============================] - 1s 7ms/step - loss: 391292290859008.0000 - mae: 13464931.0000 - val_loss: 1581148405760.0000 - val_mae: 1195963.3750\n",
            "Epoch 2/100\n",
            "43/43 [==============================] - 0s 3ms/step - loss: 3176716042240.0000 - mae: 1320938.7500 - val_loss: 77873750016.0000 - val_mae: 265417.9062\n",
            "Epoch 3/100\n",
            "43/43 [==============================] - 0s 3ms/step - loss: 37685641216.0000 - mae: 143851.6406 - val_loss: 3901266944.0000 - val_mae: 59407.7969\n",
            "Epoch 4/100\n",
            "43/43 [==============================] - 0s 3ms/step - loss: 529142720.0000 - mae: 17115.8047 - val_loss: 35237988.0000 - val_mae: 5647.1128\n",
            "Epoch 5/100\n",
            "43/43 [==============================] - 0s 3ms/step - loss: 5977529.0000 - mae: 1814.7189 - val_loss: 697755.5625 - val_mae: 793.1833\n",
            "Epoch 6/100\n",
            "43/43 [==============================] - 0s 3ms/step - loss: 86862.4844 - mae: 194.5882 - val_loss: 873.5751 - val_mae: 26.6682\n",
            "Epoch 7/100\n",
            "43/43 [==============================] - 0s 3ms/step - loss: 375.3376 - mae: 14.9263 - val_loss: 172.4469 - val_mae: 10.6249\n",
            "Epoch 8/100\n",
            "43/43 [==============================] - 0s 3ms/step - loss: 181.8100 - mae: 10.6427 - val_loss: 171.6975 - val_mae: 10.5743\n",
            "Epoch 9/100\n",
            "43/43 [==============================] - 0s 4ms/step - loss: 186.6576 - mae: 10.8970 - val_loss: 178.2240 - val_mae: 10.8382\n",
            "Epoch 10/100\n",
            "43/43 [==============================] - 0s 3ms/step - loss: 183.9968 - mae: 10.7727 - val_loss: 177.2668 - val_mae: 10.8162\n",
            "Epoch 11/100\n",
            "43/43 [==============================] - 0s 3ms/step - loss: 183.1388 - mae: 10.7712 - val_loss: 178.7410 - val_mae: 10.8843\n",
            "Epoch 12/100\n",
            "43/43 [==============================] - 0s 3ms/step - loss: 179.2772 - mae: 10.6418 - val_loss: 177.0578 - val_mae: 10.8184\n",
            "Epoch 13/100\n",
            "43/43 [==============================] - 0s 3ms/step - loss: 180.3769 - mae: 10.7504 - val_loss: 178.7390 - val_mae: 10.8404\n",
            "Epoch 14/100\n",
            "43/43 [==============================] - 0s 3ms/step - loss: 186.7914 - mae: 10.8173 - val_loss: 181.2780 - val_mae: 10.9657\n",
            "Epoch 15/100\n",
            "43/43 [==============================] - 0s 3ms/step - loss: 182.1589 - mae: 10.7364 - val_loss: 177.8169 - val_mae: 10.7877\n",
            "Epoch 16/100\n",
            "43/43 [==============================] - 0s 3ms/step - loss: 181.7170 - mae: 10.7181 - val_loss: 181.7097 - val_mae: 10.9064\n",
            "Epoch 17/100\n",
            "43/43 [==============================] - 0s 3ms/step - loss: 175.6071 - mae: 10.5575 - val_loss: 180.0515 - val_mae: 10.8833\n",
            "Epoch 18/100\n",
            "43/43 [==============================] - 0s 3ms/step - loss: 179.6695 - mae: 10.6727 - val_loss: 176.4129 - val_mae: 10.6951\n",
            "Epoch 19/100\n",
            "43/43 [==============================] - 0s 3ms/step - loss: 182.8856 - mae: 10.6786 - val_loss: 176.6747 - val_mae: 10.7504\n",
            "Epoch 20/100\n",
            "43/43 [==============================] - 0s 4ms/step - loss: 180.6583 - mae: 10.6172 - val_loss: 175.3971 - val_mae: 10.6732\n",
            "Epoch 21/100\n",
            "43/43 [==============================] - 0s 5ms/step - loss: 181.3322 - mae: 10.6568 - val_loss: 173.8698 - val_mae: 10.6250\n",
            "Epoch 22/100\n",
            "43/43 [==============================] - 0s 5ms/step - loss: 181.0175 - mae: 10.5629 - val_loss: 175.4355 - val_mae: 10.7173\n",
            "Epoch 23/100\n",
            "43/43 [==============================] - 0s 5ms/step - loss: 183.0068 - mae: 10.6546 - val_loss: 170.4731 - val_mae: 10.5039\n",
            "Epoch 24/100\n",
            "43/43 [==============================] - 0s 4ms/step - loss: 185.3461 - mae: 10.7570 - val_loss: 176.0724 - val_mae: 10.8164\n",
            "Epoch 25/100\n",
            "43/43 [==============================] - 0s 5ms/step - loss: 179.4876 - mae: 10.6301 - val_loss: 170.9308 - val_mae: 10.6117\n",
            "Epoch 26/100\n",
            "43/43 [==============================] - 0s 5ms/step - loss: 184.0128 - mae: 10.6941 - val_loss: 174.4267 - val_mae: 10.7392\n",
            "Epoch 27/100\n",
            "43/43 [==============================] - 0s 4ms/step - loss: 181.4008 - mae: 10.6919 - val_loss: 173.9189 - val_mae: 10.6248\n",
            "Epoch 28/100\n",
            "43/43 [==============================] - 0s 4ms/step - loss: 180.7496 - mae: 10.5798 - val_loss: 175.7380 - val_mae: 10.7073\n",
            "Epoch 29/100\n",
            "43/43 [==============================] - 0s 5ms/step - loss: 185.2173 - mae: 10.6496 - val_loss: 175.2844 - val_mae: 10.7239\n",
            "Epoch 30/100\n",
            "43/43 [==============================] - 0s 5ms/step - loss: 182.4624 - mae: 10.6174 - val_loss: 173.8797 - val_mae: 10.5721\n",
            "Epoch 31/100\n",
            "43/43 [==============================] - 0s 5ms/step - loss: 191.1240 - mae: 10.9997 - val_loss: 183.9138 - val_mae: 11.1043\n",
            "Epoch 32/100\n",
            "43/43 [==============================] - 0s 5ms/step - loss: 185.6074 - mae: 10.7382 - val_loss: 176.7505 - val_mae: 10.8637\n",
            "Epoch 33/100\n",
            "43/43 [==============================] - 0s 4ms/step - loss: 180.5665 - mae: 10.5724 - val_loss: 191.6610 - val_mae: 11.2945\n",
            "Epoch 34/100\n",
            "43/43 [==============================] - 0s 3ms/step - loss: 184.7163 - mae: 10.7009 - val_loss: 176.6599 - val_mae: 10.7349\n",
            "Epoch 35/100\n",
            "43/43 [==============================] - 0s 3ms/step - loss: 182.3472 - mae: 10.6626 - val_loss: 176.3257 - val_mae: 10.7261\n",
            "Epoch 36/100\n",
            "43/43 [==============================] - 0s 4ms/step - loss: 179.8037 - mae: 10.6040 - val_loss: 174.6461 - val_mae: 10.6028\n",
            "Epoch 37/100\n",
            "43/43 [==============================] - 0s 3ms/step - loss: 181.7327 - mae: 10.6431 - val_loss: 181.3462 - val_mae: 10.9987\n",
            "Epoch 38/100\n",
            "43/43 [==============================] - 0s 3ms/step - loss: 187.1877 - mae: 10.8426 - val_loss: 176.5800 - val_mae: 10.7458\n",
            "Epoch 39/100\n",
            "43/43 [==============================] - 0s 3ms/step - loss: 185.1839 - mae: 10.7658 - val_loss: 174.5153 - val_mae: 10.6667\n",
            "Epoch 40/100\n",
            "43/43 [==============================] - 0s 4ms/step - loss: 180.8652 - mae: 10.6893 - val_loss: 181.9012 - val_mae: 10.9317\n",
            "Epoch 41/100\n",
            "43/43 [==============================] - 0s 3ms/step - loss: 183.1640 - mae: 10.7421 - val_loss: 176.5760 - val_mae: 10.7646\n",
            "Epoch 42/100\n",
            "43/43 [==============================] - 0s 4ms/step - loss: 181.2796 - mae: 10.6886 - val_loss: 172.4316 - val_mae: 10.6271\n",
            "Epoch 43/100\n",
            "43/43 [==============================] - 0s 3ms/step - loss: 180.0560 - mae: 10.5957 - val_loss: 173.9425 - val_mae: 10.6744\n",
            "Epoch 44/100\n",
            "43/43 [==============================] - 0s 3ms/step - loss: 182.1498 - mae: 10.7100 - val_loss: 167.4632 - val_mae: 10.4380\n",
            "Epoch 45/100\n",
            "43/43 [==============================] - 0s 3ms/step - loss: 185.9480 - mae: 10.7920 - val_loss: 170.2457 - val_mae: 10.6184\n",
            "Epoch 46/100\n",
            "43/43 [==============================] - 0s 3ms/step - loss: 184.1804 - mae: 10.7547 - val_loss: 168.6724 - val_mae: 10.3653\n",
            "Epoch 47/100\n",
            "43/43 [==============================] - 0s 3ms/step - loss: 182.4256 - mae: 10.6794 - val_loss: 175.5775 - val_mae: 10.6821\n",
            "Epoch 48/100\n",
            "43/43 [==============================] - 0s 3ms/step - loss: 178.9654 - mae: 10.5508 - val_loss: 184.8033 - val_mae: 10.9954\n",
            "Epoch 49/100\n",
            "43/43 [==============================] - 0s 3ms/step - loss: 185.5409 - mae: 10.7534 - val_loss: 179.1456 - val_mae: 10.7731\n",
            "Epoch 50/100\n",
            "43/43 [==============================] - 0s 4ms/step - loss: 179.7641 - mae: 10.6651 - val_loss: 177.5634 - val_mae: 10.7457\n",
            "Epoch 51/100\n",
            "43/43 [==============================] - 0s 3ms/step - loss: 175.1667 - mae: 10.5313 - val_loss: 179.2819 - val_mae: 10.6477\n",
            "Epoch 52/100\n",
            "43/43 [==============================] - 0s 3ms/step - loss: 175.7584 - mae: 10.5633 - val_loss: 176.7019 - val_mae: 10.8073\n",
            "Epoch 53/100\n",
            "43/43 [==============================] - 0s 3ms/step - loss: 188.9240 - mae: 10.8760 - val_loss: 181.0263 - val_mae: 10.9142\n",
            "Epoch 54/100\n",
            "43/43 [==============================] - 0s 4ms/step - loss: 188.0917 - mae: 10.8214 - val_loss: 171.5230 - val_mae: 10.5588\n",
            "Epoch 55/100\n",
            "43/43 [==============================] - 0s 4ms/step - loss: 186.6279 - mae: 10.7748 - val_loss: 189.6471 - val_mae: 11.1648\n",
            "Epoch 56/100\n",
            "43/43 [==============================] - 0s 3ms/step - loss: 183.5674 - mae: 10.6542 - val_loss: 172.8110 - val_mae: 10.6349\n",
            "Epoch 57/100\n",
            "43/43 [==============================] - 0s 3ms/step - loss: 189.6113 - mae: 10.9768 - val_loss: 170.3750 - val_mae: 10.5666\n",
            "Epoch 58/100\n",
            "43/43 [==============================] - 0s 3ms/step - loss: 183.7469 - mae: 10.7807 - val_loss: 172.3334 - val_mae: 10.5080\n",
            "Epoch 59/100\n",
            "43/43 [==============================] - 0s 3ms/step - loss: 184.8093 - mae: 10.8155 - val_loss: 172.7547 - val_mae: 10.6293\n",
            "Epoch 60/100\n",
            "43/43 [==============================] - 0s 3ms/step - loss: 183.3877 - mae: 10.7112 - val_loss: 171.3373 - val_mae: 10.5523\n",
            "Epoch 61/100\n",
            "43/43 [==============================] - 0s 3ms/step - loss: 196.9962 - mae: 11.0617 - val_loss: 164.4649 - val_mae: 10.3124\n",
            "Epoch 62/100\n",
            "43/43 [==============================] - 0s 3ms/step - loss: 185.7272 - mae: 10.7142 - val_loss: 174.6295 - val_mae: 10.6423\n",
            "Epoch 63/100\n",
            "43/43 [==============================] - 0s 3ms/step - loss: 185.4926 - mae: 10.7986 - val_loss: 180.8520 - val_mae: 10.8866\n",
            "Epoch 64/100\n",
            "43/43 [==============================] - 0s 3ms/step - loss: 193.9279 - mae: 11.0926 - val_loss: 184.3109 - val_mae: 11.0764\n",
            "Epoch 65/100\n",
            "43/43 [==============================] - 0s 4ms/step - loss: 190.1532 - mae: 10.9740 - val_loss: 165.4438 - val_mae: 10.3408\n",
            "Epoch 66/100\n",
            "43/43 [==============================] - 0s 3ms/step - loss: 221.6938 - mae: 11.7133 - val_loss: 257.8439 - val_mae: 13.2067\n",
            "Epoch 67/100\n",
            "43/43 [==============================] - 0s 3ms/step - loss: 315.5322 - mae: 14.0695 - val_loss: 179.0714 - val_mae: 10.6272\n",
            "Epoch 68/100\n",
            "43/43 [==============================] - 0s 3ms/step - loss: 202.1375 - mae: 11.1502 - val_loss: 160.6942 - val_mae: 10.4058\n",
            "Epoch 69/100\n",
            "43/43 [==============================] - 0s 4ms/step - loss: 190.8868 - mae: 10.8124 - val_loss: 157.1518 - val_mae: 10.3322\n",
            "Epoch 70/100\n",
            "43/43 [==============================] - 0s 3ms/step - loss: 188.9028 - mae: 10.8695 - val_loss: 168.4386 - val_mae: 10.5375\n",
            "Epoch 71/100\n",
            "43/43 [==============================] - 0s 3ms/step - loss: 186.7601 - mae: 10.7528 - val_loss: 168.7876 - val_mae: 10.6256\n",
            "Epoch 72/100\n",
            "43/43 [==============================] - 0s 3ms/step - loss: 179.0740 - mae: 10.5961 - val_loss: 159.6112 - val_mae: 10.0721\n",
            "Epoch 73/100\n",
            "43/43 [==============================] - 0s 3ms/step - loss: 176.7434 - mae: 10.5834 - val_loss: 153.7016 - val_mae: 10.0754\n",
            "Epoch 74/100\n",
            "43/43 [==============================] - 0s 3ms/step - loss: 179.0133 - mae: 10.6177 - val_loss: 152.0559 - val_mae: 10.0912\n",
            "Epoch 75/100\n",
            "43/43 [==============================] - 0s 3ms/step - loss: 187.3944 - mae: 10.8470 - val_loss: 155.5402 - val_mae: 10.0162\n",
            "Epoch 76/100\n",
            "43/43 [==============================] - 0s 3ms/step - loss: 177.0226 - mae: 10.5708 - val_loss: 173.2119 - val_mae: 10.8224\n",
            "Epoch 77/100\n",
            "43/43 [==============================] - 0s 3ms/step - loss: 188.5214 - mae: 10.8695 - val_loss: 179.1615 - val_mae: 10.9113\n",
            "Epoch 78/100\n",
            "43/43 [==============================] - 0s 3ms/step - loss: 207.6169 - mae: 11.3926 - val_loss: 179.3909 - val_mae: 10.4774\n",
            "Epoch 79/100\n",
            "43/43 [==============================] - 0s 3ms/step - loss: 212.8999 - mae: 11.4268 - val_loss: 171.5005 - val_mae: 10.5893\n",
            "Epoch 80/100\n",
            "43/43 [==============================] - 0s 3ms/step - loss: 187.9237 - mae: 10.8920 - val_loss: 165.4849 - val_mae: 10.2153\n",
            "Epoch 81/100\n",
            "43/43 [==============================] - 0s 3ms/step - loss: 191.7536 - mae: 11.0656 - val_loss: 174.4559 - val_mae: 10.4953\n",
            "Epoch 82/100\n",
            "43/43 [==============================] - 0s 3ms/step - loss: 191.0722 - mae: 10.9760 - val_loss: 176.9845 - val_mae: 10.7437\n",
            "Epoch 83/100\n",
            "43/43 [==============================] - 0s 3ms/step - loss: 240.1297 - mae: 12.4088 - val_loss: 271.0838 - val_mae: 12.8028\n",
            "Epoch 84/100\n",
            "43/43 [==============================] - 0s 3ms/step - loss: 289.3614 - mae: 13.3278 - val_loss: 271.7490 - val_mae: 12.8236\n",
            "Epoch 85/100\n",
            "43/43 [==============================] - 0s 4ms/step - loss: 250.0981 - mae: 12.4492 - val_loss: 169.7816 - val_mae: 10.4505\n",
            "Epoch 86/100\n",
            "43/43 [==============================] - 0s 3ms/step - loss: 233.8011 - mae: 12.1346 - val_loss: 227.9102 - val_mae: 11.6824\n",
            "Epoch 87/100\n",
            "43/43 [==============================] - 0s 3ms/step - loss: 205.4192 - mae: 11.2587 - val_loss: 270.6688 - val_mae: 13.6893\n",
            "Epoch 88/100\n",
            "43/43 [==============================] - 0s 3ms/step - loss: 219.2714 - mae: 11.7212 - val_loss: 202.5374 - val_mae: 11.6766\n",
            "Epoch 89/100\n",
            "43/43 [==============================] - 0s 3ms/step - loss: 230.4436 - mae: 12.1061 - val_loss: 245.6378 - val_mae: 12.2937\n",
            "Epoch 90/100\n",
            "43/43 [==============================] - 0s 3ms/step - loss: 189.4419 - mae: 10.9119 - val_loss: 175.6135 - val_mae: 10.7670\n",
            "Epoch 91/100\n",
            "43/43 [==============================] - 0s 3ms/step - loss: 188.7167 - mae: 10.9039 - val_loss: 160.2055 - val_mae: 10.1323\n",
            "Epoch 92/100\n",
            "43/43 [==============================] - 0s 3ms/step - loss: 234.8702 - mae: 12.1626 - val_loss: 349.3295 - val_mae: 14.4063\n",
            "Epoch 93/100\n",
            "43/43 [==============================] - 0s 3ms/step - loss: 250.9838 - mae: 12.4503 - val_loss: 183.1846 - val_mae: 10.9450\n",
            "Epoch 94/100\n",
            "43/43 [==============================] - 0s 3ms/step - loss: 208131.1875 - mae: 229.9748 - val_loss: 464594.5000 - val_mae: 646.9185\n",
            "Epoch 95/100\n",
            "43/43 [==============================] - 0s 3ms/step - loss: 10400430.0000 - mae: 1855.7296 - val_loss: 9310677.0000 - val_mae: 2900.6323\n",
            "Epoch 96/100\n",
            "43/43 [==============================] - 0s 3ms/step - loss: 2473623040.0000 - mae: 28224.2383 - val_loss: 297554575360.0000 - val_mae: 518817.0625\n",
            "Epoch 97/100\n",
            "43/43 [==============================] - 0s 3ms/step - loss: 1269440577536.0000 - mae: 915867.3750 - val_loss: 7423708889088.0000 - val_mae: 2591449.5000\n",
            "Epoch 98/100\n",
            "43/43 [==============================] - 0s 3ms/step - loss: 1637951078400.0000 - mae: 1083023.6250 - val_loss: 1724984328192.0000 - val_mae: 1249180.3750\n",
            "Epoch 99/100\n",
            "43/43 [==============================] - 0s 3ms/step - loss: 308735541248.0000 - mae: 430145.4062 - val_loss: 793946357760.0000 - val_mae: 847478.0000\n",
            "Epoch 100/100\n",
            "43/43 [==============================] - 0s 3ms/step - loss: 102628139008.0000 - mae: 205779.2500 - val_loss: 342740896.0000 - val_mae: 17609.6211\n",
            "Test MAE: 17609.621\n",
            "## Confusion matrix metrics ##\n",
            "Accuracy: 0.77\n",
            "Recall: 1.00\n",
            "Precision: 0.77\n",
            "Specificity: 0.00\n"
          ]
        }
      ]
    },
    {
      "cell_type": "markdown",
      "source": [
        "# Classification Result"
      ],
      "metadata": {
        "id": "ANJc8FA_HKzN"
      }
    },
    {
      "cell_type": "code",
      "source": [],
      "metadata": {
        "id": "81M85lcIwPcs"
      },
      "execution_count": null,
      "outputs": []
    },
    {
      "cell_type": "code",
      "source": [
        "Eval1.plot_classification_results()\n"
      ],
      "metadata": {
        "id": "9cWZtABUIKyy"
      },
      "execution_count": null,
      "outputs": []
    },
    {
      "cell_type": "code",
      "source": [
        "Eval2.plot_classification_results()"
      ],
      "metadata": {
        "id": "eTBqT5C5IfbV"
      },
      "execution_count": null,
      "outputs": []
    },
    {
      "cell_type": "markdown",
      "source": [
        "#ROC curve using train_test_split (model 1)"
      ],
      "metadata": {
        "id": "OfwALHGqIiny"
      }
    },
    {
      "cell_type": "code",
      "source": [
        "Eval1.draw_ROC(use_probabilities=True)"
      ],
      "metadata": {
        "id": "lxzPhfZ6IhLz"
      },
      "execution_count": null,
      "outputs": []
    },
    {
      "cell_type": "markdown",
      "source": [
        "# ROC curve using split_data (model 2)"
      ],
      "metadata": {
        "id": "OoBjdHuLImM6"
      }
    },
    {
      "cell_type": "code",
      "source": [
        "Eval2.draw_ROC(use_probabilities=True)"
      ],
      "metadata": {
        "id": "u_gr692DIoXt"
      },
      "execution_count": null,
      "outputs": []
    }
  ]
}